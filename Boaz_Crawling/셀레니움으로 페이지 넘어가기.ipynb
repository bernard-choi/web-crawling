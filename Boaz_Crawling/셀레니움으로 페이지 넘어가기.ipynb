{
 "cells": [
  {
   "cell_type": "code",
   "execution_count": 1,
   "metadata": {},
   "outputs": [],
   "source": [
    "from selenium import webdriver\n",
    "browser = webdriver.Chrome(\"C://Users//User//Desktop/chromedriver.exe\")"
   ]
  },
  {
   "cell_type": "code",
   "execution_count": 2,
   "metadata": {},
   "outputs": [],
   "source": [
    "url = \"https://extmovie.maxmovie.com/xe/index.php?mid=moviedb\"\n",
    "browser.get(url)\n"
   ]
  },
  {
   "cell_type": "markdown",
   "metadata": {},
   "source": [
    "![](https://user-images.githubusercontent.com/36406676/43675714-6514ba98-981f-11e8-9340-8567ec517404.PNG)"
   ]
  },
  {
   "cell_type": "code",
   "execution_count": 3,
   "metadata": {},
   "outputs": [],
   "source": [
    "browser.find_element_by_css_selector(\"#bdCnb > ul > li:nth-child(17) > a\").click()\n",
    "## 장르 판타지 클릭"
   ]
  },
  {
   "cell_type": "code",
   "execution_count": 4,
   "metadata": {},
   "outputs": [],
   "source": [
    "from bs4 import BeautifulSoup\n",
    "html = browser.page_source\n",
    "soup = BeautifulSoup(html,\"lxml\") ##페이지 html코드를 가져온다. "
   ]
  },
  {
   "cell_type": "code",
   "execution_count": 5,
   "metadata": {},
   "outputs": [
    {
     "name": "stdout",
     "output_type": "stream",
     "text": [
      "판타지\n",
      "판타지\n",
      "판타지\n",
      "판타지\n",
      "판타지\n",
      "판타지\n",
      "판타지\n",
      "판타지\n",
      "판타지\n",
      "판타지\n",
      "판타지\n",
      "판타지\n",
      "판타지\n",
      "판타지\n",
      "판타지\n",
      "판타지\n",
      "판타지\n",
      "판타지\n",
      "판타지\n",
      "판타지\n"
     ]
    }
   ],
   "source": [
    "yunsiks = soup.select(\"td.cate > span\")\n",
    "for yunsik in yunsiks:\n",
    "    print(yunsik.string) ##분류를 다 갸져온다. 당연히 판타지만 나온다."
   ]
  },
  {
   "cell_type": "code",
   "execution_count": 6,
   "metadata": {},
   "outputs": [],
   "source": [
    "browser.get(\"http://theme.archives.go.kr/next/place/ListSearch.do\")\n",
    "##Selenium을 이용하여 31페이지 까지 이동해보겠다. \n",
    "## 10페이지에서 다음 클릭 20페이지에서 다음 클릭하는데 다르다. \n",
    "\n"
   ]
  },
  {
   "cell_type": "markdown",
   "metadata": {},
   "source": [
    "![](https://user-images.githubusercontent.com/36406676/43675715-6abbdc1a-981f-11e8-8e05-c9439b11c2cd.PNG)"
   ]
  },
  {
   "cell_type": "code",
   "execution_count": 7,
   "metadata": {},
   "outputs": [],
   "source": [
    "##코딩\n",
    "\n",
    "for i in range(2,12):\n",
    "    aa = \"#Table_01 > tbody > tr:nth-child(4) > td > table > tbody > tr > td > form > table > tbody > tr > td > table > tbody > tr > td > a:nth-child(\"\n",
    "    url = aa +str(i) +\")\"\n",
    "    \n",
    "    browser.find_element_by_css_selector(url).click()\n",
    "browser.find_element_by_css_selector(\"#Table_01 > tbody > tr:nth-child(4) > td > table > tbody > tr > td > form > table > tbody > tr > td > table > tbody > tr > td > a:nth-child(12) > img\").click()\n",
    "\n",
    "\n",
    "for i in range(3,13):\n",
    "    aa = \"#Table_01 > tbody > tr:nth-child(4) > td > table > tbody > tr > td > form > table > tbody > tr > td > table > tbody > tr > td > a:nth-child(\"\n",
    "    url = aa +str(i) +\")\"\n",
    "    browser.find_element_by_css_selector(url).click()\n",
    "browser.find_element_by_css_selector(\"#Table_01 > tbody > tr:nth-child(4) > td > table > tbody > tr > td > form > table > tbody > tr > td > table > tbody > tr > td > a:nth-child(13) > img\").click()\n",
    "\n",
    "for i in range(3,13):\n",
    "    aa = \"#Table_01 > tbody > tr:nth-child(4) > td > table > tbody > tr > td > form > table > tbody > tr > td > table > tbody > tr > td > a:nth-child(\"\n",
    "    url = aa +str(i) +\")\"\n",
    "    browser.find_element_by_css_selector(url).click()\n",
    "browser.find_element_by_css_selector(\"#Table_01 > tbody > tr:nth-child(4) > td > table > tbody > tr > td > form > table > tbody > tr > td > table > tbody > tr > td > a:nth-child(13) > img\").click()\n"
   ]
  }
 ],
 "metadata": {
  "kernelspec": {
   "display_name": "Python 3",
   "language": "python",
   "name": "python3"
  },
  "language_info": {
   "codemirror_mode": {
    "name": "ipython",
    "version": 3
   },
   "file_extension": ".py",
   "mimetype": "text/x-python",
   "name": "python",
   "nbconvert_exporter": "python",
   "pygments_lexer": "ipython3",
   "version": "3.6.6"
  }
 },
 "nbformat": 4,
 "nbformat_minor": 2
}
